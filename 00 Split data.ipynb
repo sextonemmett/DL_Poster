{
 "cells": [
  {
   "cell_type": "code",
   "execution_count": 1,
   "metadata": {},
   "outputs": [],
   "source": [
    "# Imports\n",
    "import re\n",
    "import cv2\n",
    "import os\n",
    "from imutils import paths\n",
    "from tqdm import tqdm\n",
    "import matplotlib.pyplot as plt\n",
    "import matplotlib.image as mpimg\n",
    "import pandas as pd\n",
    "import numpy as np\n",
    "import shutil\n",
    "import random\n",
    "from tqdm.notebook import tqdm\n",
    "from urllib import request"
   ]
  },
  {
   "cell_type": "code",
   "execution_count": 2,
   "metadata": {},
   "outputs": [
    {
     "data": {
      "text/plain": [
       "'/Users/emmettsexton/Dropbox/Mac (2)/Desktop/BSE/Trimester 3/03 DL Images/02 Project'"
      ]
     },
     "execution_count": 2,
     "metadata": {},
     "output_type": "execute_result"
    }
   ],
   "source": [
    "os.chdir(\"/Users/emmettsexton/Dropbox/Mac (2)/Desktop/BSE/Trimester 3/03 DL Images/02 Project/\")\n",
    "os.getcwd()"
   ]
  },
  {
   "cell_type": "code",
   "execution_count": 3,
   "metadata": {},
   "outputs": [
    {
     "name": "stdout",
     "output_type": "stream",
     "text": [
      "Total images: 16488\n",
      "Training set size: 11541\n",
      "Validation set size: 2473\n",
      "Test set size: 2474\n"
     ]
    },
    {
     "data": {
      "application/vnd.jupyter.widget-view+json": {
       "model_id": "9fa96eef0e024491b19ac2ddbbc32c3b",
       "version_major": 2,
       "version_minor": 0
      },
      "text/plain": [
       "  0%|          | 0/11541 [00:00<?, ?it/s]"
      ]
     },
     "metadata": {},
     "output_type": "display_data"
    },
    {
     "data": {
      "application/vnd.jupyter.widget-view+json": {
       "model_id": "c7c0d7da54d14b9982f704fd1b7fc541",
       "version_major": 2,
       "version_minor": 0
      },
      "text/plain": [
       "  0%|          | 0/2473 [00:00<?, ?it/s]"
      ]
     },
     "metadata": {},
     "output_type": "display_data"
    },
    {
     "data": {
      "application/vnd.jupyter.widget-view+json": {
       "model_id": "427cab5f06694e24a52688cba777ede0",
       "version_major": 2,
       "version_minor": 0
      },
      "text/plain": [
       "  0%|          | 0/2474 [00:00<?, ?it/s]"
      ]
     },
     "metadata": {},
     "output_type": "display_data"
    },
    {
     "name": "stdout",
     "output_type": "stream",
     "text": [
      "Images have been copied to ./00 Data/train, ./00 Data/val, and ./00 Data/test\n"
     ]
    }
   ],
   "source": [
    "import random\n",
    "import os\n",
    "import shutil\n",
    "from imutils import paths\n",
    "\n",
    "# Define the directories for the original data and the new datasets\n",
    "original_data_dir = \"./00 Data/images\"\n",
    "train_dir = \"./00 Data/train\"\n",
    "val_dir = \"./00 Data/val\"\n",
    "test_dir = \"./00 Data/test\"\n",
    "\n",
    "# Create the new directories if they don't exist\n",
    "os.makedirs(train_dir, exist_ok=True)\n",
    "os.makedirs(val_dir, exist_ok=True)\n",
    "os.makedirs(test_dir, exist_ok=True)\n",
    "\n",
    "# Load the file paths for all available images from the competition directory\n",
    "all_image_paths = list(paths.list_images(original_data_dir))\n",
    "print(f\"Total images: {int(len(all_image_paths))}\")\n",
    "\n",
    "# Shuffle the list of images to ensure random distribution\n",
    "random.seed(33)\n",
    "random.shuffle(all_image_paths)\n",
    "\n",
    "# Calculate the split indices for train, validation, and test sets\n",
    "train_size = int(0.7 * len(all_image_paths))\n",
    "val_test_size = int(0.15 * len(all_image_paths))\n",
    "\n",
    "# Split the dataset into train, validation, and test sets\n",
    "train_paths = all_image_paths[:train_size]\n",
    "val_paths = all_image_paths[train_size:train_size + val_test_size]\n",
    "test_paths = all_image_paths[train_size + val_test_size:]\n",
    "\n",
    "# Print the number of images in each set\n",
    "print(f\"Training set size: {len(train_paths)}\")\n",
    "print(f\"Validation set size: {len(val_paths)}\")\n",
    "print(f\"Test set size: {len(test_paths)}\")\n",
    "\n",
    "# Function to copy images to the specified directory\n",
    "def copy_images(image_paths, destination_dir):\n",
    "    for image_path in tqdm(image_paths):\n",
    "        shutil.copy(image_path, destination_dir)\n",
    "\n",
    "# Copy the images to their respective directories\n",
    "copy_images(train_paths, train_dir)\n",
    "copy_images(val_paths, val_dir)\n",
    "copy_images(test_paths, test_dir)\n",
    "\n",
    "print(f\"Images have been copied to {train_dir}, {val_dir}, and {test_dir}\")\n"
   ]
  }
 ],
 "metadata": {
  "kernelspec": {
   "display_name": "learn-env-m1tf",
   "language": "python",
   "name": "python3"
  },
  "language_info": {
   "codemirror_mode": {
    "name": "ipython",
    "version": 3
   },
   "file_extension": ".py",
   "mimetype": "text/x-python",
   "name": "python",
   "nbconvert_exporter": "python",
   "pygments_lexer": "ipython3",
   "version": "3.9.19"
  }
 },
 "nbformat": 4,
 "nbformat_minor": 2
}
